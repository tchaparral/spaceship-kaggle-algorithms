{
 "cells": [
  {
   "cell_type": "markdown",
   "metadata": {},
   "source": [
    "### XGBoost Classifier"
   ]
  },
  {
   "cell_type": "markdown",
   "metadata": {},
   "source": [
    "Libraries"
   ]
  },
  {
   "cell_type": "code",
   "execution_count": 34,
   "metadata": {},
   "outputs": [],
   "source": [
    "import pandas as pd\n",
    "import xgboost as xgb\n",
    "from sklearn.model_selection import GridSearchCV\n",
    "from sklearn.metrics import RocCurveDisplay, accuracy_score, classification_report"
   ]
  },
  {
   "cell_type": "markdown",
   "metadata": {},
   "source": [
    "Importing DataFrames"
   ]
  },
  {
   "cell_type": "code",
   "execution_count": 35,
   "metadata": {},
   "outputs": [],
   "source": [
    "train_df_encoded = pd.read_pickle('train_df_encoded.pkl')\n",
    "X_test = pd.read_pickle('test_df_encoded.pkl')"
   ]
  },
  {
   "cell_type": "code",
   "execution_count": 36,
   "metadata": {},
   "outputs": [
    {
     "name": "stdout",
     "output_type": "stream",
     "text": [
      "<class 'pandas.core.frame.DataFrame'>\n",
      "Index: 8693 entries, 0 to 8692\n",
      "Data columns (total 17 columns):\n",
      " #   Column                     Non-Null Count  Dtype  \n",
      "---  ------                     --------------  -----  \n",
      " 0   Age                        8693 non-null   int64  \n",
      " 1   Transported                8693 non-null   int64  \n",
      " 2   HomePlanet_Europa          8693 non-null   int64  \n",
      " 3   HomePlanet_Mars            8693 non-null   int64  \n",
      " 4   Destination_PSO J318.5-22  8693 non-null   int64  \n",
      " 5   Destination_TRAPPIST-1e    8693 non-null   int64  \n",
      " 6   Deck_B                     8693 non-null   int64  \n",
      " 7   Deck_C                     8693 non-null   int64  \n",
      " 8   Deck_D                     8693 non-null   int64  \n",
      " 9   Deck_E                     8693 non-null   int64  \n",
      " 10  Deck_F                     8693 non-null   int64  \n",
      " 11  Deck_G                     8693 non-null   int64  \n",
      " 12  Deck_T                     8693 non-null   int64  \n",
      " 13  Side_S                     8693 non-null   int64  \n",
      " 14  CryoSleep_True             8693 non-null   int64  \n",
      " 15  total_expendure            8693 non-null   float64\n",
      " 16  had_expenditure            8693 non-null   int64  \n",
      "dtypes: float64(1), int64(16)\n",
      "memory usage: 1.2 MB\n"
     ]
    }
   ],
   "source": [
    "train_df_encoded.info()"
   ]
  },
  {
   "cell_type": "code",
   "execution_count": 37,
   "metadata": {},
   "outputs": [
    {
     "name": "stdout",
     "output_type": "stream",
     "text": [
      "<class 'pandas.core.frame.DataFrame'>\n",
      "Index: 4277 entries, 8693 to 12969\n",
      "Data columns (total 16 columns):\n",
      " #   Column                     Non-Null Count  Dtype  \n",
      "---  ------                     --------------  -----  \n",
      " 0   Age                        4277 non-null   int64  \n",
      " 1   HomePlanet_Europa          4277 non-null   int64  \n",
      " 2   HomePlanet_Mars            4277 non-null   int64  \n",
      " 3   Destination_PSO J318.5-22  4277 non-null   int64  \n",
      " 4   Destination_TRAPPIST-1e    4277 non-null   int64  \n",
      " 5   Deck_B                     4277 non-null   int64  \n",
      " 6   Deck_C                     4277 non-null   int64  \n",
      " 7   Deck_D                     4277 non-null   int64  \n",
      " 8   Deck_E                     4277 non-null   int64  \n",
      " 9   Deck_F                     4277 non-null   int64  \n",
      " 10  Deck_G                     4277 non-null   int64  \n",
      " 11  Deck_T                     4277 non-null   int64  \n",
      " 12  Side_S                     4277 non-null   int64  \n",
      " 13  CryoSleep_True             4277 non-null   int64  \n",
      " 14  total_expendure            4277 non-null   float64\n",
      " 15  had_expenditure            4277 non-null   int64  \n",
      "dtypes: float64(1), int64(15)\n",
      "memory usage: 568.0 KB\n"
     ]
    }
   ],
   "source": [
    "X_test.info()"
   ]
  },
  {
   "cell_type": "code",
   "execution_count": 38,
   "metadata": {},
   "outputs": [
    {
     "name": "stdout",
     "output_type": "stream",
     "text": [
      "<class 'pandas.core.frame.DataFrame'>\n",
      "Index: 8693 entries, 0 to 8692\n",
      "Data columns (total 16 columns):\n",
      " #   Column                     Non-Null Count  Dtype  \n",
      "---  ------                     --------------  -----  \n",
      " 0   Age                        8693 non-null   int64  \n",
      " 1   HomePlanet_Europa          8693 non-null   int64  \n",
      " 2   HomePlanet_Mars            8693 non-null   int64  \n",
      " 3   Destination_PSO J318.5-22  8693 non-null   int64  \n",
      " 4   Destination_TRAPPIST-1e    8693 non-null   int64  \n",
      " 5   Deck_B                     8693 non-null   int64  \n",
      " 6   Deck_C                     8693 non-null   int64  \n",
      " 7   Deck_D                     8693 non-null   int64  \n",
      " 8   Deck_E                     8693 non-null   int64  \n",
      " 9   Deck_F                     8693 non-null   int64  \n",
      " 10  Deck_G                     8693 non-null   int64  \n",
      " 11  Deck_T                     8693 non-null   int64  \n",
      " 12  Side_S                     8693 non-null   int64  \n",
      " 13  CryoSleep_True             8693 non-null   int64  \n",
      " 14  total_expendure            8693 non-null   float64\n",
      " 15  had_expenditure            8693 non-null   int64  \n",
      "dtypes: float64(1), int64(15)\n",
      "memory usage: 1.1 MB\n"
     ]
    }
   ],
   "source": [
    "# splitting X and y for train\n",
    "X_train = train_df_encoded.drop('Transported', axis = 1)\n",
    "X_train.info()"
   ]
  },
  {
   "cell_type": "code",
   "execution_count": 39,
   "metadata": {},
   "outputs": [
    {
     "name": "stdout",
     "output_type": "stream",
     "text": [
      "<class 'pandas.core.series.Series'>\n",
      "Index: 8693 entries, 0 to 8692\n",
      "Series name: Transported\n",
      "Non-Null Count  Dtype\n",
      "--------------  -----\n",
      "8693 non-null   int64\n",
      "dtypes: int64(1)\n",
      "memory usage: 135.8 KB\n"
     ]
    }
   ],
   "source": [
    "y_train = train_df_encoded['Transported']\n",
    "y_train.info()"
   ]
  },
  {
   "cell_type": "code",
   "execution_count": 40,
   "metadata": {},
   "outputs": [
    {
     "data": {
      "text/plain": [
       "0    0\n",
       "1    1\n",
       "2    0\n",
       "3    0\n",
       "4    1\n",
       "Name: Transported, dtype: int64"
      ]
     },
     "execution_count": 40,
     "metadata": {},
     "output_type": "execute_result"
    }
   ],
   "source": [
    "y_train.head()"
   ]
  },
  {
   "cell_type": "code",
   "execution_count": 41,
   "metadata": {},
   "outputs": [
    {
     "data": {
      "text/html": [
       "<div>\n",
       "<style scoped>\n",
       "    .dataframe tbody tr th:only-of-type {\n",
       "        vertical-align: middle;\n",
       "    }\n",
       "\n",
       "    .dataframe tbody tr th {\n",
       "        vertical-align: top;\n",
       "    }\n",
       "\n",
       "    .dataframe thead th {\n",
       "        text-align: right;\n",
       "    }\n",
       "</style>\n",
       "<table border=\"1\" class=\"dataframe\">\n",
       "  <thead>\n",
       "    <tr style=\"text-align: right;\">\n",
       "      <th></th>\n",
       "      <th>Age</th>\n",
       "      <th>HomePlanet_Europa</th>\n",
       "      <th>HomePlanet_Mars</th>\n",
       "      <th>Destination_PSO J318.5-22</th>\n",
       "      <th>Destination_TRAPPIST-1e</th>\n",
       "      <th>Deck_B</th>\n",
       "      <th>Deck_C</th>\n",
       "      <th>Deck_D</th>\n",
       "      <th>Deck_E</th>\n",
       "      <th>Deck_F</th>\n",
       "      <th>Deck_G</th>\n",
       "      <th>Deck_T</th>\n",
       "      <th>Side_S</th>\n",
       "      <th>CryoSleep_True</th>\n",
       "      <th>total_expendure</th>\n",
       "      <th>had_expenditure</th>\n",
       "    </tr>\n",
       "  </thead>\n",
       "  <tbody>\n",
       "    <tr>\n",
       "      <th>0</th>\n",
       "      <td>39</td>\n",
       "      <td>1</td>\n",
       "      <td>0</td>\n",
       "      <td>0</td>\n",
       "      <td>1</td>\n",
       "      <td>1</td>\n",
       "      <td>0</td>\n",
       "      <td>0</td>\n",
       "      <td>0</td>\n",
       "      <td>0</td>\n",
       "      <td>0</td>\n",
       "      <td>0</td>\n",
       "      <td>0</td>\n",
       "      <td>0</td>\n",
       "      <td>0.0</td>\n",
       "      <td>0</td>\n",
       "    </tr>\n",
       "    <tr>\n",
       "      <th>1</th>\n",
       "      <td>24</td>\n",
       "      <td>0</td>\n",
       "      <td>0</td>\n",
       "      <td>0</td>\n",
       "      <td>1</td>\n",
       "      <td>0</td>\n",
       "      <td>0</td>\n",
       "      <td>0</td>\n",
       "      <td>0</td>\n",
       "      <td>1</td>\n",
       "      <td>0</td>\n",
       "      <td>0</td>\n",
       "      <td>1</td>\n",
       "      <td>0</td>\n",
       "      <td>736.0</td>\n",
       "      <td>1</td>\n",
       "    </tr>\n",
       "    <tr>\n",
       "      <th>2</th>\n",
       "      <td>58</td>\n",
       "      <td>1</td>\n",
       "      <td>0</td>\n",
       "      <td>0</td>\n",
       "      <td>1</td>\n",
       "      <td>0</td>\n",
       "      <td>0</td>\n",
       "      <td>0</td>\n",
       "      <td>0</td>\n",
       "      <td>0</td>\n",
       "      <td>0</td>\n",
       "      <td>0</td>\n",
       "      <td>1</td>\n",
       "      <td>0</td>\n",
       "      <td>10383.0</td>\n",
       "      <td>1</td>\n",
       "    </tr>\n",
       "    <tr>\n",
       "      <th>3</th>\n",
       "      <td>33</td>\n",
       "      <td>1</td>\n",
       "      <td>0</td>\n",
       "      <td>0</td>\n",
       "      <td>1</td>\n",
       "      <td>0</td>\n",
       "      <td>0</td>\n",
       "      <td>0</td>\n",
       "      <td>0</td>\n",
       "      <td>0</td>\n",
       "      <td>0</td>\n",
       "      <td>0</td>\n",
       "      <td>1</td>\n",
       "      <td>0</td>\n",
       "      <td>5176.0</td>\n",
       "      <td>1</td>\n",
       "    </tr>\n",
       "    <tr>\n",
       "      <th>4</th>\n",
       "      <td>16</td>\n",
       "      <td>0</td>\n",
       "      <td>0</td>\n",
       "      <td>0</td>\n",
       "      <td>1</td>\n",
       "      <td>0</td>\n",
       "      <td>0</td>\n",
       "      <td>0</td>\n",
       "      <td>0</td>\n",
       "      <td>1</td>\n",
       "      <td>0</td>\n",
       "      <td>0</td>\n",
       "      <td>1</td>\n",
       "      <td>0</td>\n",
       "      <td>1091.0</td>\n",
       "      <td>1</td>\n",
       "    </tr>\n",
       "  </tbody>\n",
       "</table>\n",
       "</div>"
      ],
      "text/plain": [
       "   Age  HomePlanet_Europa  HomePlanet_Mars  Destination_PSO J318.5-22  \\\n",
       "0   39                  1                0                          0   \n",
       "1   24                  0                0                          0   \n",
       "2   58                  1                0                          0   \n",
       "3   33                  1                0                          0   \n",
       "4   16                  0                0                          0   \n",
       "\n",
       "   Destination_TRAPPIST-1e  Deck_B  Deck_C  Deck_D  Deck_E  Deck_F  Deck_G  \\\n",
       "0                        1       1       0       0       0       0       0   \n",
       "1                        1       0       0       0       0       1       0   \n",
       "2                        1       0       0       0       0       0       0   \n",
       "3                        1       0       0       0       0       0       0   \n",
       "4                        1       0       0       0       0       1       0   \n",
       "\n",
       "   Deck_T  Side_S  CryoSleep_True  total_expendure  had_expenditure  \n",
       "0       0       0               0              0.0                0  \n",
       "1       0       1               0            736.0                1  \n",
       "2       0       1               0          10383.0                1  \n",
       "3       0       1               0           5176.0                1  \n",
       "4       0       1               0           1091.0                1  "
      ]
     },
     "execution_count": 41,
     "metadata": {},
     "output_type": "execute_result"
    }
   ],
   "source": [
    "X_train.head()"
   ]
  },
  {
   "cell_type": "code",
   "execution_count": 42,
   "metadata": {},
   "outputs": [],
   "source": [
    "# calling xgb\n",
    "xgb = xgb.XGBClassifier()"
   ]
  },
  {
   "cell_type": "markdown",
   "metadata": {},
   "source": [
    "I will directly search for the best hyperparameters"
   ]
  },
  {
   "cell_type": "code",
   "execution_count": 46,
   "metadata": {},
   "outputs": [
    {
     "name": "stdout",
     "output_type": "stream",
     "text": [
      "Fitting 4 folds for each of 144 candidates, totalling 576 fits\n"
     ]
    },
    {
     "name": "stderr",
     "output_type": "stream",
     "text": [
      "c:\\Users\\corre\\AppData\\Local\\Programs\\Python\\Python312\\Lib\\site-packages\\numpy\\ma\\core.py:2846: RuntimeWarning: invalid value encountered in cast\n",
      "  _data = np.array(data, dtype=dtype, copy=copy,\n"
     ]
    },
    {
     "name": "stdout",
     "output_type": "stream",
     "text": [
      "best params: {'colsample_bytree': 0.9, 'learning_rate': 0.05, 'max_depth': 5, 'n_estimators': 100}\n",
      "best score: 0.7480748192989906\n"
     ]
    }
   ],
   "source": [
    "# test hyperparameters\n",
    "from sklearn.model_selection import GridSearchCV\n",
    "params = {\n",
    "    'learning_rate': [0.01, 0.05, 0.1, 0.3],\n",
    "    'max_depth': [3, 4, 5, 6],\n",
    "    'colsample_bytree': [0.8, 0.9, 1],\n",
    "    'n_estimators': [50, 100, 2000]\n",
    "}\n",
    "\n",
    "# grid searching\n",
    "grid_search = GridSearchCV(\n",
    "    estimator = xgb,\n",
    "    param_grid = params,\n",
    "    cv = 4,\n",
    "    scoring = 'accuracy',\n",
    "    verbose = 1,\n",
    ")\n",
    "\n",
    "grid_search.fit(X_train, y_train)\n",
    "print(f'best params: {grid_search.best_params_}')\n",
    "print(f'best score: {grid_search.best_score_}')"
   ]
  },
  {
   "cell_type": "code",
   "execution_count": null,
   "metadata": {},
   "outputs": [],
   "source": []
  }
 ],
 "metadata": {
  "kernelspec": {
   "display_name": "Python 3",
   "language": "python",
   "name": "python3"
  },
  "language_info": {
   "codemirror_mode": {
    "name": "ipython",
    "version": 3
   },
   "file_extension": ".py",
   "mimetype": "text/x-python",
   "name": "python",
   "nbconvert_exporter": "python",
   "pygments_lexer": "ipython3",
   "version": "3.12.6"
  }
 },
 "nbformat": 4,
 "nbformat_minor": 2
}
